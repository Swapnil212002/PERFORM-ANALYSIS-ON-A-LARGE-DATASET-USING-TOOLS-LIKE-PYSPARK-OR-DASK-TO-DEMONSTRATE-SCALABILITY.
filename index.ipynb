# 📊 Netflix Dataset Analysis using Dask with Visualizations

#IMPORTS
import dask.dataframe as dd
import matplotlib.pyplot as plt
import seaborn as sns
import warnings
warnings.filterwarnings("ignore")

#LOAD DATASET
df = dd.read_csv("netflix.csv", sep=';', quotechar='"', assume_missing=True)
df = df.dropna(subset=['type'])

#NULL VALUES
print("\n🔍 Null Values:")
print(df.isnull().sum().compute())

#TYPE DISTRIBUTION
type_counts = df['type'].value_counts().compute()
print("\n🎬 Type Distribution:")
print(type_counts)

type_counts.plot(kind='bar', color='skyblue')
plt.title('Count of Content Types')
plt.xlabel('Type')
plt.ylabel('Count')
plt.tight_layout()
plt.show()

#TOP COUNTRIES
top_countries = df['country'].value_counts().nlargest(10).compute()
print("\n🌍 Top 10 Countries by Content:")
print(top_countries)

top_countries.plot(kind='barh', color='salmon')
plt.title('Top 10 Countries by Netflix Content')
plt.xlabel('Number of Titles')
plt.tight_layout()
plt.show()

# YEAR WISE DISTRIBUTION
df['date_added'] = dd.to_datetime(df['date_added'], errors='coerce')
df['year_added'] = df['date_added'].dt.year
yearly_add = df['year_added'].value_counts().sort_index().compute()
print("\n📅 Content Added Per Year:")
print(yearly_add)

yearly_add.plot(kind='line', marker='o', color='green')
plt.title('Content Added to Netflix Per Year')
plt.xlabel('Year')
plt.ylabel('Number of Titles')
plt.tight_layout()
plt.show()

# GENRE ANALYSIS
df['listed_in'] = df['listed_in'].fillna('')
genres = df['listed_in'].str.split(', ')
genres = genres.explode()
top_genres = genres.value_counts().nlargest(10).compute()
print("\n🎭 Top 10 Genres:")
print(top_genres)

top_genres.plot(kind='bar', color='purple')
plt.title('Top 10 Netflix Genres')
plt.xlabel('Genre')
plt.ylabel('Frequency')
plt.tight_layout()
plt.show()



